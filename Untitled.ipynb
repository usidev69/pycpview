{
 "cells": [
  {
   "cell_type": "markdown",
   "id": "1b1af4b5-1183-4dc4-9189-c2cd98794fcd",
   "metadata": {},
   "source": [
    "# Creación de nuevos gráficos #\n"
   ]
  },
  {
   "cell_type": "code",
   "execution_count": 2,
   "id": "c5934e93-52e1-44ab-9050-2b7904a6d0be",
   "metadata": {},
   "outputs": [],
   "source": [
    "import pandas as pd\n",
    "import bokeh as bk\n",
    "import sqlite3 as sq3\n",
    "\n",
    "\n",
    "df=\n"
   ]
  },
  {
   "cell_type": "code",
   "execution_count": null,
   "id": "4a896193-dbae-4554-90c3-35774da85c76",
   "metadata": {},
   "outputs": [],
   "source": []
  }
 ],
 "metadata": {
  "kernelspec": {
   "display_name": "pycpview",
   "language": "python",
   "name": "pycpview"
  },
  "language_info": {
   "codemirror_mode": {
    "name": "ipython",
    "version": 3
   },
   "file_extension": ".py",
   "mimetype": "text/x-python",
   "name": "python",
   "nbconvert_exporter": "python",
   "pygments_lexer": "ipython3",
   "version": "3.9.7"
  }
 },
 "nbformat": 4,
 "nbformat_minor": 5
}
